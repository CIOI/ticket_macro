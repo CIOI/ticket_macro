{
 "cells": [
  {
   "cell_type": "code",
   "execution_count": 1,
   "metadata": {},
   "outputs": [],
   "source": [
    "import selenium\n",
    "from ticket_module import Choose,Login\n",
    "import ticket_module\n",
    "from selenium.webdriver.common.by import By\n",
    "from selenium.webdriver.support.ui import Select\n",
    "from selenium.webdriver.support.ui import WebDriverWait\n",
    "from selenium.webdriver.support import expected_conditions as EC\n",
    "from main import run_login\n",
    "\n",
    "url = 'https://www.ticketlouvre.fr/louvre/b2c/index.cfm/change.language/lang/en-GB/?ref=https%3A%2F%2Fwww%2Eticketlouvre%2Efr%2Flouvre%2Fb2c%2Findex%2Ecfm%2Fcalendar%2FeventCode%2FGA'\n",
    "id_test  = 'rhkr9693@gmail.com'\n",
    "email_dict = {'email1': 'hyemin.bae@myrealtrip.com', \n",
    "              'email2': 'ulim.lee@myrealtrip.com',\n",
    "              'email3': 'hanna.choi@myrealtrip.com',\n",
    "              'email4': 'joohyoung.park@myrealtrip.com'}\n",
    "password = 'myrealtrip'\n",
    "password_test = 'dlwpdlf2@'\n",
    "userinfo_test=[url,id_test,password_test]\n",
    "userinfo1=[url,email_dict['email1'],password_test]\n",
    "userinfo2=[url,email_dict['email2'],password_test]\n",
    "userinfo3=[url,email_dict['email3'],password_test]\n",
    "userinfo4=[url,email_dict['email4'],password_test]"
   ]
  },
  {
   "cell_type": "code",
   "execution_count": 2,
   "metadata": {},
   "outputs": [
    {
     "ename": "StaleElementReferenceException",
     "evalue": "Message: stale element reference: stale element not found\n  (Session info: chrome=117.0.5938.149); For documentation on this error, please visit: https://www.selenium.dev/documentation/webdriver/troubleshooting/errors#stale-element-reference-exception\nStacktrace:\n0   chromedriver                        0x00000001011fed68 chromedriver + 4337000\n1   chromedriver                        0x00000001011f6de4 chromedriver + 4304356\n2   chromedriver                        0x0000000100e23a5c chromedriver + 293468\n3   chromedriver                        0x0000000100e31f54 chromedriver + 352084\n4   chromedriver                        0x0000000100e292a4 chromedriver + 316068\n5   chromedriver                        0x0000000100e27edc chromedriver + 311004\n6   chromedriver                        0x0000000100e2a8dc chromedriver + 321756\n7   chromedriver                        0x0000000100e2aa08 chromedriver + 322056\n8   chromedriver                        0x0000000100e6aa18 chromedriver + 584216\n9   chromedriver                        0x0000000100e5e7f4 chromedriver + 534516\n10  chromedriver                        0x0000000100e5e200 chromedriver + 532992\n11  chromedriver                        0x0000000100ea3908 chromedriver + 817416\n12  chromedriver                        0x0000000100e5ca5c chromedriver + 526940\n13  chromedriver                        0x0000000100e5d908 chromedriver + 530696\n14  chromedriver                        0x00000001011c4db4 chromedriver + 4099508\n15  chromedriver                        0x00000001011c9270 chromedriver + 4117104\n16  chromedriver                        0x00000001011cf4fc chromedriver + 4142332\n17  chromedriver                        0x00000001011c9d70 chromedriver + 4119920\n18  chromedriver                        0x00000001011a1a44 chromedriver + 3955268\n19  chromedriver                        0x00000001011e6a18 chromedriver + 4237848\n20  chromedriver                        0x00000001011e6b94 chromedriver + 4238228\n21  chromedriver                        0x00000001011f6a5c chromedriver + 4303452\n22  libsystem_pthread.dylib             0x0000000189197034 _pthread_start + 136\n23  libsystem_pthread.dylib             0x0000000189191e3c thread_start + 8\n",
     "output_type": "error",
     "traceback": [
      "\u001b[0;31m---------------------------------------------------------------------------\u001b[0m",
      "\u001b[0;31mStaleElementReferenceException\u001b[0m            Traceback (most recent call last)",
      "\u001b[1;32m/Users/dongho/Desktop/louvre/ticket.ipynb Cell 2\u001b[0m line \u001b[0;36m2\n\u001b[1;32m      <a href='vscode-notebook-cell:/Users/dongho/Desktop/louvre/ticket.ipynb#W1sZmlsZQ%3D%3D?line=0'>1</a>\u001b[0m driver1\u001b[39m=\u001b[39mLogin(\u001b[39m*\u001b[39muserinfo1)\n\u001b[0;32m----> <a href='vscode-notebook-cell:/Users/dongho/Desktop/louvre/ticket.ipynb#W1sZmlsZQ%3D%3D?line=1'>2</a>\u001b[0m driver1\u001b[39m=\u001b[39mrun_login(driver1)\n",
      "File \u001b[0;32m~/Desktop/louvre/main.py:25\u001b[0m, in \u001b[0;36mrun_login\u001b[0;34m(driver)\u001b[0m\n\u001b[1;32m     23\u001b[0m \u001b[39mdef\u001b[39;00m \u001b[39mrun_login\u001b[39m(driver):\n\u001b[1;32m     24\u001b[0m     driver\u001b[39m.\u001b[39minto_login_page()\n\u001b[0;32m---> 25\u001b[0m     driver\u001b[39m.\u001b[39;49mlogin()\n\u001b[1;32m     26\u001b[0m     \u001b[39mreturn\u001b[39;00m driver\u001b[39m.\u001b[39mreturn_driver()\n",
      "File \u001b[0;32m~/Desktop/louvre/ticket_module.py:138\u001b[0m, in \u001b[0;36mLogin.login\u001b[0;34m(self)\u001b[0m\n\u001b[1;32m    136\u001b[0m sign_in_link \u001b[39m=\u001b[39m \u001b[39mself\u001b[39m\u001b[39m.\u001b[39mdriver\u001b[39m.\u001b[39mfind_element(By\u001b[39m.\u001b[39mID, \u001b[39m\"\u001b[39m\u001b[39mjq-user-form-submit\u001b[39m\u001b[39m\"\u001b[39m)\n\u001b[1;32m    137\u001b[0m sign_in_link\u001b[39m.\u001b[39mclick()\n\u001b[0;32m--> 138\u001b[0m sign_in_link\u001b[39m.\u001b[39;49mclick()\n\u001b[1;32m    139\u001b[0m \u001b[39mself\u001b[39m\u001b[39m.\u001b[39mdriver\u001b[39m.\u001b[39mimplicitly_wait(\u001b[39m10\u001b[39m)\n\u001b[1;32m    140\u001b[0m \u001b[39mself\u001b[39m\u001b[39m.\u001b[39mdriver\u001b[39m.\u001b[39mget(\u001b[39mself\u001b[39m\u001b[39m.\u001b[39murl)\n",
      "File \u001b[0;32m~/Desktop/louvre/env/lib/python3.10/site-packages/selenium/webdriver/remote/webelement.py:93\u001b[0m, in \u001b[0;36mWebElement.click\u001b[0;34m(self)\u001b[0m\n\u001b[1;32m     91\u001b[0m \u001b[39mdef\u001b[39;00m \u001b[39mclick\u001b[39m(\u001b[39mself\u001b[39m) \u001b[39m-\u001b[39m\u001b[39m>\u001b[39m \u001b[39mNone\u001b[39;00m:\n\u001b[1;32m     92\u001b[0m \u001b[39m    \u001b[39m\u001b[39m\"\"\"Clicks the element.\"\"\"\u001b[39;00m\n\u001b[0;32m---> 93\u001b[0m     \u001b[39mself\u001b[39;49m\u001b[39m.\u001b[39;49m_execute(Command\u001b[39m.\u001b[39;49mCLICK_ELEMENT)\n",
      "File \u001b[0;32m~/Desktop/louvre/env/lib/python3.10/site-packages/selenium/webdriver/remote/webelement.py:394\u001b[0m, in \u001b[0;36mWebElement._execute\u001b[0;34m(self, command, params)\u001b[0m\n\u001b[1;32m    392\u001b[0m     params \u001b[39m=\u001b[39m {}\n\u001b[1;32m    393\u001b[0m params[\u001b[39m\"\u001b[39m\u001b[39mid\u001b[39m\u001b[39m\"\u001b[39m] \u001b[39m=\u001b[39m \u001b[39mself\u001b[39m\u001b[39m.\u001b[39m_id\n\u001b[0;32m--> 394\u001b[0m \u001b[39mreturn\u001b[39;00m \u001b[39mself\u001b[39;49m\u001b[39m.\u001b[39;49m_parent\u001b[39m.\u001b[39;49mexecute(command, params)\n",
      "File \u001b[0;32m~/Desktop/louvre/env/lib/python3.10/site-packages/selenium/webdriver/remote/webdriver.py:344\u001b[0m, in \u001b[0;36mWebDriver.execute\u001b[0;34m(self, driver_command, params)\u001b[0m\n\u001b[1;32m    342\u001b[0m response \u001b[39m=\u001b[39m \u001b[39mself\u001b[39m\u001b[39m.\u001b[39mcommand_executor\u001b[39m.\u001b[39mexecute(driver_command, params)\n\u001b[1;32m    343\u001b[0m \u001b[39mif\u001b[39;00m response:\n\u001b[0;32m--> 344\u001b[0m     \u001b[39mself\u001b[39;49m\u001b[39m.\u001b[39;49merror_handler\u001b[39m.\u001b[39;49mcheck_response(response)\n\u001b[1;32m    345\u001b[0m     response[\u001b[39m\"\u001b[39m\u001b[39mvalue\u001b[39m\u001b[39m\"\u001b[39m] \u001b[39m=\u001b[39m \u001b[39mself\u001b[39m\u001b[39m.\u001b[39m_unwrap_value(response\u001b[39m.\u001b[39mget(\u001b[39m\"\u001b[39m\u001b[39mvalue\u001b[39m\u001b[39m\"\u001b[39m, \u001b[39mNone\u001b[39;00m))\n\u001b[1;32m    346\u001b[0m     \u001b[39mreturn\u001b[39;00m response\n",
      "File \u001b[0;32m~/Desktop/louvre/env/lib/python3.10/site-packages/selenium/webdriver/remote/errorhandler.py:229\u001b[0m, in \u001b[0;36mErrorHandler.check_response\u001b[0;34m(self, response)\u001b[0m\n\u001b[1;32m    227\u001b[0m         alert_text \u001b[39m=\u001b[39m value[\u001b[39m\"\u001b[39m\u001b[39malert\u001b[39m\u001b[39m\"\u001b[39m]\u001b[39m.\u001b[39mget(\u001b[39m\"\u001b[39m\u001b[39mtext\u001b[39m\u001b[39m\"\u001b[39m)\n\u001b[1;32m    228\u001b[0m     \u001b[39mraise\u001b[39;00m exception_class(message, screen, stacktrace, alert_text)  \u001b[39m# type: ignore[call-arg]  # mypy is not smart enough here\u001b[39;00m\n\u001b[0;32m--> 229\u001b[0m \u001b[39mraise\u001b[39;00m exception_class(message, screen, stacktrace)\n",
      "\u001b[0;31mStaleElementReferenceException\u001b[0m: Message: stale element reference: stale element not found\n  (Session info: chrome=117.0.5938.149); For documentation on this error, please visit: https://www.selenium.dev/documentation/webdriver/troubleshooting/errors#stale-element-reference-exception\nStacktrace:\n0   chromedriver                        0x00000001011fed68 chromedriver + 4337000\n1   chromedriver                        0x00000001011f6de4 chromedriver + 4304356\n2   chromedriver                        0x0000000100e23a5c chromedriver + 293468\n3   chromedriver                        0x0000000100e31f54 chromedriver + 352084\n4   chromedriver                        0x0000000100e292a4 chromedriver + 316068\n5   chromedriver                        0x0000000100e27edc chromedriver + 311004\n6   chromedriver                        0x0000000100e2a8dc chromedriver + 321756\n7   chromedriver                        0x0000000100e2aa08 chromedriver + 322056\n8   chromedriver                        0x0000000100e6aa18 chromedriver + 584216\n9   chromedriver                        0x0000000100e5e7f4 chromedriver + 534516\n10  chromedriver                        0x0000000100e5e200 chromedriver + 532992\n11  chromedriver                        0x0000000100ea3908 chromedriver + 817416\n12  chromedriver                        0x0000000100e5ca5c chromedriver + 526940\n13  chromedriver                        0x0000000100e5d908 chromedriver + 530696\n14  chromedriver                        0x00000001011c4db4 chromedriver + 4099508\n15  chromedriver                        0x00000001011c9270 chromedriver + 4117104\n16  chromedriver                        0x00000001011cf4fc chromedriver + 4142332\n17  chromedriver                        0x00000001011c9d70 chromedriver + 4119920\n18  chromedriver                        0x00000001011a1a44 chromedriver + 3955268\n19  chromedriver                        0x00000001011e6a18 chromedriver + 4237848\n20  chromedriver                        0x00000001011e6b94 chromedriver + 4238228\n21  chromedriver                        0x00000001011f6a5c chromedriver + 4303452\n22  libsystem_pthread.dylib             0x0000000189197034 _pthread_start + 136\n23  libsystem_pthread.dylib             0x0000000189191e3c thread_start + 8\n"
     ]
    }
   ],
   "source": [
    "driver1=Login(*userinfo_test)\n",
    "driver1=run_login(driver1)\n"
   ]
  },
  {
   "cell_type": "code",
   "execution_count": 8,
   "metadata": {},
   "outputs": [],
   "source": [
    "confirm_button = driver.find_element(By.CSS_SELECTOR,'a.small-button.next.jq-a-disable.jq-basket-submit.jq-basket-submit-do')\n",
    "confirm_button.click()"
   ]
  },
  {
   "cell_type": "code",
   "execution_count": 9,
   "metadata": {},
   "outputs": [],
   "source": [
    "checkbox = driver.find_element(By.NAME, \"cgvConfirm\")\n",
    "checkbox.click()"
   ]
  },
  {
   "cell_type": "code",
   "execution_count": 3,
   "metadata": {},
   "outputs": [],
   "source": [
    "a=driver.find_element(By.CSS_SELECTOR,'[data-handler=\"next\"]')"
   ]
  },
  {
   "cell_type": "code",
   "execution_count": 11,
   "metadata": {},
   "outputs": [],
   "source": [
    "confirm_button = driver.find_element(By.CSS_SELECTOR,'a#jq-checkout-confirm')\n",
    "confirm_button.click()"
   ]
  },
  {
   "cell_type": "code",
   "execution_count": 4,
   "metadata": {},
   "outputs": [],
   "source": [
    "date_calender=driver.find_element(By.CLASS_NAME, 'ui-datepicker-header')"
   ]
  },
  {
   "cell_type": "code",
   "execution_count": 12,
   "metadata": {},
   "outputs": [],
   "source": [
    "radio_button = driver.find_element(By.CSS_SELECTOR,'input[type=\"radio\"][value=\"EUROCARD_MASTERCARD\"]')\n",
    "radio_button.click()"
   ]
  },
  {
   "cell_type": "code",
   "execution_count": 4,
   "metadata": {},
   "outputs": [],
   "source": [
    "import ticket_module\n",
    "url = 'https://www.ticketlouvre.fr/louvre/b2c/index.cfm/change.language/lang/en-GB/?ref=https%3A%2F%2Fwww%2Eticketlouvre%2Efr%2Flouvre%2Fb2c%2Findex%2Ecfm%2Fcalendar%2FeventCode%2FGA'\n",
    "first_tier=ticket_module.Date(url)"
   ]
  },
  {
   "cell_type": "code",
   "execution_count": 13,
   "metadata": {},
   "outputs": [],
   "source": [
    "#카드\n",
    "image_button = driver.find_element(By.ID,\"boutonA0\")\n",
    "image_button.click()"
   ]
  },
  {
   "cell_type": "code",
   "execution_count": 5,
   "metadata": {},
   "outputs": [
    {
     "ename": "StaleElementReferenceException",
     "evalue": "Message: stale element reference: stale element not found\n  (Session info: chrome=117.0.5938.149); For documentation on this error, please visit: https://www.selenium.dev/documentation/webdriver/troubleshooting/errors#stale-element-reference-exception\nStacktrace:\n0   chromedriver                        0x0000000102ff2d68 chromedriver + 4337000\n1   chromedriver                        0x0000000102feade4 chromedriver + 4304356\n2   chromedriver                        0x0000000102c17a5c chromedriver + 293468\n3   chromedriver                        0x0000000102c1ccc8 chromedriver + 314568\n4   chromedriver                        0x0000000102c1e8dc chromedriver + 321756\n5   chromedriver                        0x0000000102c1ea08 chromedriver + 322056\n6   chromedriver                        0x0000000102c5caf4 chromedriver + 576244\n7   chromedriver                        0x0000000102c52200 chromedriver + 532992\n8   chromedriver                        0x0000000102c97908 chromedriver + 817416\n9   chromedriver                        0x0000000102c50a5c chromedriver + 526940\n10  chromedriver                        0x0000000102c51908 chromedriver + 530696\n11  chromedriver                        0x0000000102fb8db4 chromedriver + 4099508\n12  chromedriver                        0x0000000102fbd270 chromedriver + 4117104\n13  chromedriver                        0x0000000102fc34fc chromedriver + 4142332\n14  chromedriver                        0x0000000102fbdd70 chromedriver + 4119920\n15  chromedriver                        0x0000000102f95a44 chromedriver + 3955268\n16  chromedriver                        0x0000000102fdaa18 chromedriver + 4237848\n17  chromedriver                        0x0000000102fdab94 chromedriver + 4238228\n18  chromedriver                        0x0000000102feaa5c chromedriver + 4303452\n19  libsystem_pthread.dylib             0x0000000189197034 _pthread_start + 136\n20  libsystem_pthread.dylib             0x0000000189191e3c thread_start + 8\n",
     "output_type": "error",
     "traceback": [
      "\u001b[0;31m---------------------------------------------------------------------------\u001b[0m",
      "\u001b[0;31mStaleElementReferenceException\u001b[0m            Traceback (most recent call last)",
      "\u001b[1;32m/Users/dongho/Desktop/louvre/ticket.ipynb Cell 5\u001b[0m line \u001b[0;36m1\n\u001b[0;32m----> <a href='vscode-notebook-cell:/Users/dongho/Desktop/louvre/ticket.ipynb#X24sZmlsZQ%3D%3D?line=0'>1</a>\u001b[0m first_tier\u001b[39m.\u001b[39;49mnext_month()\n",
      "File \u001b[0;32m~/Desktop/louvre/ticket_module.py:12\u001b[0m, in \u001b[0;36mDate.next_month\u001b[0;34m(self)\u001b[0m\n\u001b[1;32m     11\u001b[0m \u001b[39mdef\u001b[39;00m \u001b[39mnext_month\u001b[39m(\u001b[39mself\u001b[39m):\n\u001b[0;32m---> 12\u001b[0m     a\u001b[39m=\u001b[39m\u001b[39mself\u001b[39;49m\u001b[39m.\u001b[39;49mdate_calender\u001b[39m.\u001b[39;49mfind_element(By\u001b[39m.\u001b[39;49mCSS_SELECTOR,\u001b[39m'\u001b[39;49m\u001b[39m[data-handler=\u001b[39;49m\u001b[39m\"\u001b[39;49m\u001b[39mnext\u001b[39;49m\u001b[39m\"\u001b[39;49m\u001b[39m]\u001b[39;49m\u001b[39m'\u001b[39;49m)\n\u001b[1;32m     13\u001b[0m     a\u001b[39m.\u001b[39mclick()\n\u001b[1;32m     14\u001b[0m     \u001b[39m#새로운 캘린더로 초기화\u001b[39;00m\n",
      "File \u001b[0;32m~/Desktop/louvre/env/lib/python3.10/site-packages/selenium/webdriver/remote/webelement.py:416\u001b[0m, in \u001b[0;36mWebElement.find_element\u001b[0;34m(self, by, value)\u001b[0m\n\u001b[1;32m    413\u001b[0m     by \u001b[39m=\u001b[39m By\u001b[39m.\u001b[39mCSS_SELECTOR\n\u001b[1;32m    414\u001b[0m     value \u001b[39m=\u001b[39m \u001b[39mf\u001b[39m\u001b[39m'\u001b[39m\u001b[39m[name=\u001b[39m\u001b[39m\"\u001b[39m\u001b[39m{\u001b[39;00mvalue\u001b[39m}\u001b[39;00m\u001b[39m\"\u001b[39m\u001b[39m]\u001b[39m\u001b[39m'\u001b[39m\n\u001b[0;32m--> 416\u001b[0m \u001b[39mreturn\u001b[39;00m \u001b[39mself\u001b[39;49m\u001b[39m.\u001b[39;49m_execute(Command\u001b[39m.\u001b[39;49mFIND_CHILD_ELEMENT, {\u001b[39m\"\u001b[39;49m\u001b[39musing\u001b[39;49m\u001b[39m\"\u001b[39;49m: by, \u001b[39m\"\u001b[39;49m\u001b[39mvalue\u001b[39;49m\u001b[39m\"\u001b[39;49m: value})[\u001b[39m\"\u001b[39m\u001b[39mvalue\u001b[39m\u001b[39m\"\u001b[39m]\n",
      "File \u001b[0;32m~/Desktop/louvre/env/lib/python3.10/site-packages/selenium/webdriver/remote/webelement.py:394\u001b[0m, in \u001b[0;36mWebElement._execute\u001b[0;34m(self, command, params)\u001b[0m\n\u001b[1;32m    392\u001b[0m     params \u001b[39m=\u001b[39m {}\n\u001b[1;32m    393\u001b[0m params[\u001b[39m\"\u001b[39m\u001b[39mid\u001b[39m\u001b[39m\"\u001b[39m] \u001b[39m=\u001b[39m \u001b[39mself\u001b[39m\u001b[39m.\u001b[39m_id\n\u001b[0;32m--> 394\u001b[0m \u001b[39mreturn\u001b[39;00m \u001b[39mself\u001b[39;49m\u001b[39m.\u001b[39;49m_parent\u001b[39m.\u001b[39;49mexecute(command, params)\n",
      "File \u001b[0;32m~/Desktop/louvre/env/lib/python3.10/site-packages/selenium/webdriver/remote/webdriver.py:344\u001b[0m, in \u001b[0;36mWebDriver.execute\u001b[0;34m(self, driver_command, params)\u001b[0m\n\u001b[1;32m    342\u001b[0m response \u001b[39m=\u001b[39m \u001b[39mself\u001b[39m\u001b[39m.\u001b[39mcommand_executor\u001b[39m.\u001b[39mexecute(driver_command, params)\n\u001b[1;32m    343\u001b[0m \u001b[39mif\u001b[39;00m response:\n\u001b[0;32m--> 344\u001b[0m     \u001b[39mself\u001b[39;49m\u001b[39m.\u001b[39;49merror_handler\u001b[39m.\u001b[39;49mcheck_response(response)\n\u001b[1;32m    345\u001b[0m     response[\u001b[39m\"\u001b[39m\u001b[39mvalue\u001b[39m\u001b[39m\"\u001b[39m] \u001b[39m=\u001b[39m \u001b[39mself\u001b[39m\u001b[39m.\u001b[39m_unwrap_value(response\u001b[39m.\u001b[39mget(\u001b[39m\"\u001b[39m\u001b[39mvalue\u001b[39m\u001b[39m\"\u001b[39m, \u001b[39mNone\u001b[39;00m))\n\u001b[1;32m    346\u001b[0m     \u001b[39mreturn\u001b[39;00m response\n",
      "File \u001b[0;32m~/Desktop/louvre/env/lib/python3.10/site-packages/selenium/webdriver/remote/errorhandler.py:229\u001b[0m, in \u001b[0;36mErrorHandler.check_response\u001b[0;34m(self, response)\u001b[0m\n\u001b[1;32m    227\u001b[0m         alert_text \u001b[39m=\u001b[39m value[\u001b[39m\"\u001b[39m\u001b[39malert\u001b[39m\u001b[39m\"\u001b[39m]\u001b[39m.\u001b[39mget(\u001b[39m\"\u001b[39m\u001b[39mtext\u001b[39m\u001b[39m\"\u001b[39m)\n\u001b[1;32m    228\u001b[0m     \u001b[39mraise\u001b[39;00m exception_class(message, screen, stacktrace, alert_text)  \u001b[39m# type: ignore[call-arg]  # mypy is not smart enough here\u001b[39;00m\n\u001b[0;32m--> 229\u001b[0m \u001b[39mraise\u001b[39;00m exception_class(message, screen, stacktrace)\n",
      "\u001b[0;31mStaleElementReferenceException\u001b[0m: Message: stale element reference: stale element not found\n  (Session info: chrome=117.0.5938.149); For documentation on this error, please visit: https://www.selenium.dev/documentation/webdriver/troubleshooting/errors#stale-element-reference-exception\nStacktrace:\n0   chromedriver                        0x0000000102ff2d68 chromedriver + 4337000\n1   chromedriver                        0x0000000102feade4 chromedriver + 4304356\n2   chromedriver                        0x0000000102c17a5c chromedriver + 293468\n3   chromedriver                        0x0000000102c1ccc8 chromedriver + 314568\n4   chromedriver                        0x0000000102c1e8dc chromedriver + 321756\n5   chromedriver                        0x0000000102c1ea08 chromedriver + 322056\n6   chromedriver                        0x0000000102c5caf4 chromedriver + 576244\n7   chromedriver                        0x0000000102c52200 chromedriver + 532992\n8   chromedriver                        0x0000000102c97908 chromedriver + 817416\n9   chromedriver                        0x0000000102c50a5c chromedriver + 526940\n10  chromedriver                        0x0000000102c51908 chromedriver + 530696\n11  chromedriver                        0x0000000102fb8db4 chromedriver + 4099508\n12  chromedriver                        0x0000000102fbd270 chromedriver + 4117104\n13  chromedriver                        0x0000000102fc34fc chromedriver + 4142332\n14  chromedriver                        0x0000000102fbdd70 chromedriver + 4119920\n15  chromedriver                        0x0000000102f95a44 chromedriver + 3955268\n16  chromedriver                        0x0000000102fdaa18 chromedriver + 4237848\n17  chromedriver                        0x0000000102fdab94 chromedriver + 4238228\n18  chromedriver                        0x0000000102feaa5c chromedriver + 4303452\n19  libsystem_pthread.dylib             0x0000000189197034 _pthread_start + 136\n20  libsystem_pthread.dylib             0x0000000189191e3c thread_start + 8\n"
     ]
    }
   ],
   "source": []
  },
  {
   "cell_type": "code",
   "execution_count": null,
   "metadata": {},
   "outputs": [],
   "source": []
  },
  {
   "cell_type": "code",
   "execution_count": 92,
   "metadata": {},
   "outputs": [],
   "source": [
    "next_button = date_calender.find_element(By.CSS_SELECTOR,'[data-handler=\"next\"]').click()"
   ]
  },
  {
   "cell_type": "code",
   "execution_count": 90,
   "metadata": {},
   "outputs": [],
   "source": [
    "next_button.click()"
   ]
  },
  {
   "cell_type": "code",
   "execution_count": 76,
   "metadata": {},
   "outputs": [],
   "source": [
    "all_date = driver.find_elements(By.CLASS_NAME,\"high_availability\")\n"
   ]
  },
  {
   "cell_type": "code",
   "execution_count": 94,
   "metadata": {},
   "outputs": [
    {
     "ename": "ModuleNotFoundError",
     "evalue": "No module named 'ticket_module.Date'; 'ticket_module' is not a package",
     "output_type": "error",
     "traceback": [
      "\u001b[0;31m---------------------------------------------------------------------------\u001b[0m",
      "\u001b[0;31mModuleNotFoundError\u001b[0m                       Traceback (most recent call last)",
      "\u001b[1;32m/Users/dongho/Desktop/louvre/ticket.ipynb Cell 8\u001b[0m line \u001b[0;36m1\n\u001b[0;32m----> <a href='vscode-notebook-cell:/Users/dongho/Desktop/louvre/ticket.ipynb#X21sZmlsZQ%3D%3D?line=0'>1</a>\u001b[0m \u001b[39mimport\u001b[39;00m \u001b[39mticket_module\u001b[39;00m\u001b[39m.\u001b[39;00m\u001b[39mDate\u001b[39;00m\n",
      "\u001b[0;31mModuleNotFoundError\u001b[0m: No module named 'ticket_module.Date'; 'ticket_module' is not a package"
     ]
    }
   ],
   "source": [
    "import ticket_module"
   ]
  },
  {
   "cell_type": "code",
   "execution_count": 99,
   "metadata": {},
   "outputs": [
    {
     "ename": "TypeError",
     "evalue": "Date.__init__() takes 1 positional argument but 2 were given",
     "output_type": "error",
     "traceback": [
      "\u001b[0;31m---------------------------------------------------------------------------\u001b[0m",
      "\u001b[0;31mTypeError\u001b[0m                                 Traceback (most recent call last)",
      "\u001b[1;32m/Users/dongho/Desktop/louvre/ticket.ipynb Cell 9\u001b[0m line \u001b[0;36m1\n\u001b[0;32m----> <a href='vscode-notebook-cell:/Users/dongho/Desktop/louvre/ticket.ipynb#X22sZmlsZQ%3D%3D?line=0'>1</a>\u001b[0m test\u001b[39m=\u001b[39mticket_module\u001b[39m.\u001b[39;49mDate(driver)\n",
      "\u001b[0;31mTypeError\u001b[0m: Date.__init__() takes 1 positional argument but 2 were given"
     ]
    }
   ],
   "source": [
    "test=ticket_module.Date(driver)"
   ]
  },
  {
   "cell_type": "code",
   "execution_count": 96,
   "metadata": {},
   "outputs": [
    {
     "data": {
      "text/plain": [
       "<selenium.webdriver.chrome.webdriver.WebDriver (session=\"bdf5fabae8874aefde226a41b98f9646\")>"
      ]
     },
     "execution_count": 96,
     "metadata": {},
     "output_type": "execute_result"
    }
   ],
   "source": [
    "driver"
   ]
  },
  {
   "cell_type": "code",
   "execution_count": 108,
   "metadata": {},
   "outputs": [
    {
     "ename": "NoSuchElementException",
     "evalue": "Message: no such element: Unable to locate element: {\"method\":\"link text\",\"selector\":\"28\"}\n  (Session info: chrome=117.0.5938.149); For documentation on this error, please visit: https://www.selenium.dev/documentation/webdriver/troubleshooting/errors#no-such-element-exception\nStacktrace:\n0   chromedriver                        0x0000000102b46d68 chromedriver + 4337000\n1   chromedriver                        0x0000000102b3ede4 chromedriver + 4304356\n2   chromedriver                        0x000000010276ba5c chromedriver + 293468\n3   chromedriver                        0x00000001027b0d50 chromedriver + 576848\n4   chromedriver                        0x00000001027a6200 chromedriver + 532992\n5   chromedriver                        0x00000001027eb908 chromedriver + 817416\n6   chromedriver                        0x00000001027a4a5c chromedriver + 526940\n7   chromedriver                        0x00000001027a5908 chromedriver + 530696\n8   chromedriver                        0x0000000102b0cdb4 chromedriver + 4099508\n9   chromedriver                        0x0000000102b11270 chromedriver + 4117104\n10  chromedriver                        0x0000000102b174fc chromedriver + 4142332\n11  chromedriver                        0x0000000102b11d70 chromedriver + 4119920\n12  chromedriver                        0x0000000102ae9a44 chromedriver + 3955268\n13  chromedriver                        0x0000000102b2ea18 chromedriver + 4237848\n14  chromedriver                        0x0000000102b2eb94 chromedriver + 4238228\n15  chromedriver                        0x0000000102b3ea5c chromedriver + 4303452\n16  libsystem_pthread.dylib             0x0000000189197034 _pthread_start + 136\n17  libsystem_pthread.dylib             0x0000000189191e3c thread_start + 8\n",
     "output_type": "error",
     "traceback": [
      "\u001b[0;31m---------------------------------------------------------------------------\u001b[0m",
      "\u001b[0;31mNoSuchElementException\u001b[0m                    Traceback (most recent call last)",
      "\u001b[1;32m/Users/dongho/Desktop/louvre/ticket.ipynb Cell 12\u001b[0m line \u001b[0;36m1\n\u001b[0;32m----> <a href='vscode-notebook-cell:/Users/dongho/Desktop/louvre/ticket.ipynb#X25sZmlsZQ%3D%3D?line=0'>1</a>\u001b[0m datebutton\u001b[39m=\u001b[39mdate_calender\u001b[39m.\u001b[39;49mfind_element(By\u001b[39m.\u001b[39;49mLINK_TEXT,\u001b[39m\"\u001b[39;49m\u001b[39m28\u001b[39;49m\u001b[39m\"\u001b[39;49m)\n",
      "File \u001b[0;32m~/Desktop/louvre/env/lib/python3.10/site-packages/selenium/webdriver/remote/webelement.py:416\u001b[0m, in \u001b[0;36mWebElement.find_element\u001b[0;34m(self, by, value)\u001b[0m\n\u001b[1;32m    413\u001b[0m     by \u001b[39m=\u001b[39m By\u001b[39m.\u001b[39mCSS_SELECTOR\n\u001b[1;32m    414\u001b[0m     value \u001b[39m=\u001b[39m \u001b[39mf\u001b[39m\u001b[39m'\u001b[39m\u001b[39m[name=\u001b[39m\u001b[39m\"\u001b[39m\u001b[39m{\u001b[39;00mvalue\u001b[39m}\u001b[39;00m\u001b[39m\"\u001b[39m\u001b[39m]\u001b[39m\u001b[39m'\u001b[39m\n\u001b[0;32m--> 416\u001b[0m \u001b[39mreturn\u001b[39;00m \u001b[39mself\u001b[39;49m\u001b[39m.\u001b[39;49m_execute(Command\u001b[39m.\u001b[39;49mFIND_CHILD_ELEMENT, {\u001b[39m\"\u001b[39;49m\u001b[39musing\u001b[39;49m\u001b[39m\"\u001b[39;49m: by, \u001b[39m\"\u001b[39;49m\u001b[39mvalue\u001b[39;49m\u001b[39m\"\u001b[39;49m: value})[\u001b[39m\"\u001b[39m\u001b[39mvalue\u001b[39m\u001b[39m\"\u001b[39m]\n",
      "File \u001b[0;32m~/Desktop/louvre/env/lib/python3.10/site-packages/selenium/webdriver/remote/webelement.py:394\u001b[0m, in \u001b[0;36mWebElement._execute\u001b[0;34m(self, command, params)\u001b[0m\n\u001b[1;32m    392\u001b[0m     params \u001b[39m=\u001b[39m {}\n\u001b[1;32m    393\u001b[0m params[\u001b[39m\"\u001b[39m\u001b[39mid\u001b[39m\u001b[39m\"\u001b[39m] \u001b[39m=\u001b[39m \u001b[39mself\u001b[39m\u001b[39m.\u001b[39m_id\n\u001b[0;32m--> 394\u001b[0m \u001b[39mreturn\u001b[39;00m \u001b[39mself\u001b[39;49m\u001b[39m.\u001b[39;49m_parent\u001b[39m.\u001b[39;49mexecute(command, params)\n",
      "File \u001b[0;32m~/Desktop/louvre/env/lib/python3.10/site-packages/selenium/webdriver/remote/webdriver.py:344\u001b[0m, in \u001b[0;36mWebDriver.execute\u001b[0;34m(self, driver_command, params)\u001b[0m\n\u001b[1;32m    342\u001b[0m response \u001b[39m=\u001b[39m \u001b[39mself\u001b[39m\u001b[39m.\u001b[39mcommand_executor\u001b[39m.\u001b[39mexecute(driver_command, params)\n\u001b[1;32m    343\u001b[0m \u001b[39mif\u001b[39;00m response:\n\u001b[0;32m--> 344\u001b[0m     \u001b[39mself\u001b[39;49m\u001b[39m.\u001b[39;49merror_handler\u001b[39m.\u001b[39;49mcheck_response(response)\n\u001b[1;32m    345\u001b[0m     response[\u001b[39m\"\u001b[39m\u001b[39mvalue\u001b[39m\u001b[39m\"\u001b[39m] \u001b[39m=\u001b[39m \u001b[39mself\u001b[39m\u001b[39m.\u001b[39m_unwrap_value(response\u001b[39m.\u001b[39mget(\u001b[39m\"\u001b[39m\u001b[39mvalue\u001b[39m\u001b[39m\"\u001b[39m, \u001b[39mNone\u001b[39;00m))\n\u001b[1;32m    346\u001b[0m     \u001b[39mreturn\u001b[39;00m response\n",
      "File \u001b[0;32m~/Desktop/louvre/env/lib/python3.10/site-packages/selenium/webdriver/remote/errorhandler.py:229\u001b[0m, in \u001b[0;36mErrorHandler.check_response\u001b[0;34m(self, response)\u001b[0m\n\u001b[1;32m    227\u001b[0m         alert_text \u001b[39m=\u001b[39m value[\u001b[39m\"\u001b[39m\u001b[39malert\u001b[39m\u001b[39m\"\u001b[39m]\u001b[39m.\u001b[39mget(\u001b[39m\"\u001b[39m\u001b[39mtext\u001b[39m\u001b[39m\"\u001b[39m)\n\u001b[1;32m    228\u001b[0m     \u001b[39mraise\u001b[39;00m exception_class(message, screen, stacktrace, alert_text)  \u001b[39m# type: ignore[call-arg]  # mypy is not smart enough here\u001b[39;00m\n\u001b[0;32m--> 229\u001b[0m \u001b[39mraise\u001b[39;00m exception_class(message, screen, stacktrace)\n",
      "\u001b[0;31mNoSuchElementException\u001b[0m: Message: no such element: Unable to locate element: {\"method\":\"link text\",\"selector\":\"28\"}\n  (Session info: chrome=117.0.5938.149); For documentation on this error, please visit: https://www.selenium.dev/documentation/webdriver/troubleshooting/errors#no-such-element-exception\nStacktrace:\n0   chromedriver                        0x0000000102b46d68 chromedriver + 4337000\n1   chromedriver                        0x0000000102b3ede4 chromedriver + 4304356\n2   chromedriver                        0x000000010276ba5c chromedriver + 293468\n3   chromedriver                        0x00000001027b0d50 chromedriver + 576848\n4   chromedriver                        0x00000001027a6200 chromedriver + 532992\n5   chromedriver                        0x00000001027eb908 chromedriver + 817416\n6   chromedriver                        0x00000001027a4a5c chromedriver + 526940\n7   chromedriver                        0x00000001027a5908 chromedriver + 530696\n8   chromedriver                        0x0000000102b0cdb4 chromedriver + 4099508\n9   chromedriver                        0x0000000102b11270 chromedriver + 4117104\n10  chromedriver                        0x0000000102b174fc chromedriver + 4142332\n11  chromedriver                        0x0000000102b11d70 chromedriver + 4119920\n12  chromedriver                        0x0000000102ae9a44 chromedriver + 3955268\n13  chromedriver                        0x0000000102b2ea18 chromedriver + 4237848\n14  chromedriver                        0x0000000102b2eb94 chromedriver + 4238228\n15  chromedriver                        0x0000000102b3ea5c chromedriver + 4303452\n16  libsystem_pthread.dylib             0x0000000189197034 _pthread_start + 136\n17  libsystem_pthread.dylib             0x0000000189191e3c thread_start + 8\n"
     ]
    }
   ],
   "source": [
    "datebutton=date_calender.find_element(By.LINK_TEXT,\"28\")\n"
   ]
  },
  {
   "cell_type": "code",
   "execution_count": 78,
   "metadata": {},
   "outputs": [
    {
     "name": "stdout",
     "output_type": "stream",
     "text": [
      "[<selenium.webdriver.remote.webelement.WebElement (session=\"1770aae4fc398155279f9e0ce3f73e59\", element=\"705BF07EBAE7FCAA197307B5E0917F23_element_1242\")>]\n"
     ]
    }
   ],
   "source": [
    "for date in all_date:\n",
    "    try:\n",
    "        datebutton=date.find_element(By.LINK_TEXT,\"28\")\n",
    "        print(k)\n",
    "    except:\n",
    "        pass\n",
    "\n",
    "    "
   ]
  },
  {
   "cell_type": "code",
   "execution_count": 79,
   "metadata": {},
   "outputs": [],
   "source": [
    "datebutton.click()"
   ]
  },
  {
   "cell_type": "code",
   "execution_count": 80,
   "metadata": {},
   "outputs": [],
   "source": [
    "time_calender = driver.find_elements(By.CLASS_NAME,\"day-show\")\n"
   ]
  },
  {
   "cell_type": "code",
   "execution_count": 81,
   "metadata": {},
   "outputs": [
    {
     "ename": "NoSuchElementException",
     "evalue": "Message: no such element: Unable to locate element: {\"method\":\"link text\",\"selector\":\"2:30 AM\"}\n  (Session info: chrome=117.0.5938.149); For documentation on this error, please visit: https://www.selenium.dev/documentation/webdriver/troubleshooting/errors#no-such-element-exception\nStacktrace:\n0   chromedriver                        0x0000000102c3ed68 chromedriver + 4337000\n1   chromedriver                        0x0000000102c36de4 chromedriver + 4304356\n2   chromedriver                        0x0000000102863a5c chromedriver + 293468\n3   chromedriver                        0x00000001028a8d50 chromedriver + 576848\n4   chromedriver                        0x000000010289e200 chromedriver + 532992\n5   chromedriver                        0x00000001028e3908 chromedriver + 817416\n6   chromedriver                        0x000000010289ca5c chromedriver + 526940\n7   chromedriver                        0x000000010289d908 chromedriver + 530696\n8   chromedriver                        0x0000000102c04db4 chromedriver + 4099508\n9   chromedriver                        0x0000000102c09270 chromedriver + 4117104\n10  chromedriver                        0x0000000102c0f4fc chromedriver + 4142332\n11  chromedriver                        0x0000000102c09d70 chromedriver + 4119920\n12  chromedriver                        0x0000000102be1a44 chromedriver + 3955268\n13  chromedriver                        0x0000000102c26a18 chromedriver + 4237848\n14  chromedriver                        0x0000000102c26b94 chromedriver + 4238228\n15  chromedriver                        0x0000000102c36a5c chromedriver + 4303452\n16  libsystem_pthread.dylib             0x0000000189197034 _pthread_start + 136\n17  libsystem_pthread.dylib             0x0000000189191e3c thread_start + 8\n",
     "output_type": "error",
     "traceback": [
      "\u001b[0;31m---------------------------------------------------------------------------\u001b[0m",
      "\u001b[0;31mNoSuchElementException\u001b[0m                    Traceback (most recent call last)",
      "\u001b[1;32m/Users/dongho/Desktop/louvre/ticket.ipynb Cell 8\u001b[0m line \u001b[0;36m1\n\u001b[0;32m----> <a href='vscode-notebook-cell:/Users/dongho/Desktop/louvre/ticket.ipynb#X10sZmlsZQ%3D%3D?line=0'>1</a>\u001b[0m day_selec \u001b[39m=\u001b[39m time_calender\u001b[39m.\u001b[39;49mfind_element(By\u001b[39m.\u001b[39;49mLINK_TEXT,\u001b[39m\"\u001b[39;49m\u001b[39m2:30 AM\u001b[39;49m\u001b[39m\"\u001b[39;49m)\n",
      "File \u001b[0;32m~/Desktop/louvre/env/lib/python3.10/site-packages/selenium/webdriver/remote/webelement.py:416\u001b[0m, in \u001b[0;36mWebElement.find_element\u001b[0;34m(self, by, value)\u001b[0m\n\u001b[1;32m    413\u001b[0m     by \u001b[39m=\u001b[39m By\u001b[39m.\u001b[39mCSS_SELECTOR\n\u001b[1;32m    414\u001b[0m     value \u001b[39m=\u001b[39m \u001b[39mf\u001b[39m\u001b[39m'\u001b[39m\u001b[39m[name=\u001b[39m\u001b[39m\"\u001b[39m\u001b[39m{\u001b[39;00mvalue\u001b[39m}\u001b[39;00m\u001b[39m\"\u001b[39m\u001b[39m]\u001b[39m\u001b[39m'\u001b[39m\n\u001b[0;32m--> 416\u001b[0m \u001b[39mreturn\u001b[39;00m \u001b[39mself\u001b[39;49m\u001b[39m.\u001b[39;49m_execute(Command\u001b[39m.\u001b[39;49mFIND_CHILD_ELEMENT, {\u001b[39m\"\u001b[39;49m\u001b[39musing\u001b[39;49m\u001b[39m\"\u001b[39;49m: by, \u001b[39m\"\u001b[39;49m\u001b[39mvalue\u001b[39;49m\u001b[39m\"\u001b[39;49m: value})[\u001b[39m\"\u001b[39m\u001b[39mvalue\u001b[39m\u001b[39m\"\u001b[39m]\n",
      "File \u001b[0;32m~/Desktop/louvre/env/lib/python3.10/site-packages/selenium/webdriver/remote/webelement.py:394\u001b[0m, in \u001b[0;36mWebElement._execute\u001b[0;34m(self, command, params)\u001b[0m\n\u001b[1;32m    392\u001b[0m     params \u001b[39m=\u001b[39m {}\n\u001b[1;32m    393\u001b[0m params[\u001b[39m\"\u001b[39m\u001b[39mid\u001b[39m\u001b[39m\"\u001b[39m] \u001b[39m=\u001b[39m \u001b[39mself\u001b[39m\u001b[39m.\u001b[39m_id\n\u001b[0;32m--> 394\u001b[0m \u001b[39mreturn\u001b[39;00m \u001b[39mself\u001b[39;49m\u001b[39m.\u001b[39;49m_parent\u001b[39m.\u001b[39;49mexecute(command, params)\n",
      "File \u001b[0;32m~/Desktop/louvre/env/lib/python3.10/site-packages/selenium/webdriver/remote/webdriver.py:344\u001b[0m, in \u001b[0;36mWebDriver.execute\u001b[0;34m(self, driver_command, params)\u001b[0m\n\u001b[1;32m    342\u001b[0m response \u001b[39m=\u001b[39m \u001b[39mself\u001b[39m\u001b[39m.\u001b[39mcommand_executor\u001b[39m.\u001b[39mexecute(driver_command, params)\n\u001b[1;32m    343\u001b[0m \u001b[39mif\u001b[39;00m response:\n\u001b[0;32m--> 344\u001b[0m     \u001b[39mself\u001b[39;49m\u001b[39m.\u001b[39;49merror_handler\u001b[39m.\u001b[39;49mcheck_response(response)\n\u001b[1;32m    345\u001b[0m     response[\u001b[39m\"\u001b[39m\u001b[39mvalue\u001b[39m\u001b[39m\"\u001b[39m] \u001b[39m=\u001b[39m \u001b[39mself\u001b[39m\u001b[39m.\u001b[39m_unwrap_value(response\u001b[39m.\u001b[39mget(\u001b[39m\"\u001b[39m\u001b[39mvalue\u001b[39m\u001b[39m\"\u001b[39m, \u001b[39mNone\u001b[39;00m))\n\u001b[1;32m    346\u001b[0m     \u001b[39mreturn\u001b[39;00m response\n",
      "File \u001b[0;32m~/Desktop/louvre/env/lib/python3.10/site-packages/selenium/webdriver/remote/errorhandler.py:229\u001b[0m, in \u001b[0;36mErrorHandler.check_response\u001b[0;34m(self, response)\u001b[0m\n\u001b[1;32m    227\u001b[0m         alert_text \u001b[39m=\u001b[39m value[\u001b[39m\"\u001b[39m\u001b[39malert\u001b[39m\u001b[39m\"\u001b[39m]\u001b[39m.\u001b[39mget(\u001b[39m\"\u001b[39m\u001b[39mtext\u001b[39m\u001b[39m\"\u001b[39m)\n\u001b[1;32m    228\u001b[0m     \u001b[39mraise\u001b[39;00m exception_class(message, screen, stacktrace, alert_text)  \u001b[39m# type: ignore[call-arg]  # mypy is not smart enough here\u001b[39;00m\n\u001b[0;32m--> 229\u001b[0m \u001b[39mraise\u001b[39;00m exception_class(message, screen, stacktrace)\n",
      "\u001b[0;31mNoSuchElementException\u001b[0m: Message: no such element: Unable to locate element: {\"method\":\"link text\",\"selector\":\"2:30 AM\"}\n  (Session info: chrome=117.0.5938.149); For documentation on this error, please visit: https://www.selenium.dev/documentation/webdriver/troubleshooting/errors#no-such-element-exception\nStacktrace:\n0   chromedriver                        0x0000000102c3ed68 chromedriver + 4337000\n1   chromedriver                        0x0000000102c36de4 chromedriver + 4304356\n2   chromedriver                        0x0000000102863a5c chromedriver + 293468\n3   chromedriver                        0x00000001028a8d50 chromedriver + 576848\n4   chromedriver                        0x000000010289e200 chromedriver + 532992\n5   chromedriver                        0x00000001028e3908 chromedriver + 817416\n6   chromedriver                        0x000000010289ca5c chromedriver + 526940\n7   chromedriver                        0x000000010289d908 chromedriver + 530696\n8   chromedriver                        0x0000000102c04db4 chromedriver + 4099508\n9   chromedriver                        0x0000000102c09270 chromedriver + 4117104\n10  chromedriver                        0x0000000102c0f4fc chromedriver + 4142332\n11  chromedriver                        0x0000000102c09d70 chromedriver + 4119920\n12  chromedriver                        0x0000000102be1a44 chromedriver + 3955268\n13  chromedriver                        0x0000000102c26a18 chromedriver + 4237848\n14  chromedriver                        0x0000000102c26b94 chromedriver + 4238228\n15  chromedriver                        0x0000000102c36a5c chromedriver + 4303452\n16  libsystem_pthread.dylib             0x0000000189197034 _pthread_start + 136\n17  libsystem_pthread.dylib             0x0000000189191e3c thread_start + 8\n"
     ]
    }
   ],
   "source": [
    "day_selec = time_calender.find_element(By.LINK_TEXT,\"2:30 AM\")"
   ]
  },
  {
   "cell_type": "code",
   "execution_count": 37,
   "metadata": {},
   "outputs": [],
   "source": [
    "day_selec.click()"
   ]
  },
  {
   "cell_type": "code",
   "execution_count": null,
   "metadata": {},
   "outputs": [],
   "source": [
    "html = driver.page_source\n",
    "soup = BeautifulSoup(html)\n",
    "imgcss = soup.select_one('#wrapper > div.bottom-column.column.clearfix > div.main-content-wrapper > div.content-wrapper.article.wrapper > div > div.street-info-box.info-box.box > div.snapImg > a > img')\n",
    "image_url = soup.find(\"img\")[\"src\"]\n",
    "# 크롤링할 웹 페이지 URL 리스트\n",
    "urls = [\"https://example.com/page1\", \"https://example.com/page2\", \"https://example.com/page3\"]"
   ]
  }
 ],
 "metadata": {
  "kernelspec": {
   "display_name": "upstage",
   "language": "python",
   "name": "python3"
  },
  "language_info": {
   "codemirror_mode": {
    "name": "ipython",
    "version": 3
   },
   "file_extension": ".py",
   "mimetype": "text/x-python",
   "name": "python",
   "nbconvert_exporter": "python",
   "pygments_lexer": "ipython3",
   "version": "3.10.9"
  }
 },
 "nbformat": 4,
 "nbformat_minor": 2
}
