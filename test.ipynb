{
 "cells": [
  {
   "cell_type": "code",
   "execution_count": 1,
   "metadata": {},
   "outputs": [],
   "source": [
    "import selenium\n",
    "from ticket_module import Choose,Login,Checkout\n",
    "from selenium.webdriver.common.by import By\n",
    "from selenium.webdriver.support.ui import Select\n",
    "from selenium.webdriver.support.ui import WebDriverWait\n",
    "from selenium.webdriver.support import expected_conditions as EC\n",
    "from time import sleep\n",
    "\n",
    "card_info=['5531844005884174','10','26','057']\n",
    "test_card_info=['5531844005884174','11','26','111']\n",
    "url = 'https://www.ticketlouvre.fr/louvre/b2c/index.cfm/change.language/lang/en-GB/?ref=https%3A%2F%2Fwww%2Eticketlouvre%2Efr%2Flouvre%2Fb2c%2Findex%2Ecfm%2Fcalendar%2FeventCode%2FGA'\n",
    "id  = 'rhkr9693@gmail.com'\n",
    "password = 'dlwpdlf2@'\n",
    "userinfo=[url,id,password]\n",
    "\n",
    "k=[('2','9:00 AM'),('4','9:00 AM'),\n",
    "                      ('5','9:00 AM'),('8','9:00 AM'),('9','9:00 AM'),('11','9:00 AM'),\n",
    "                      ('5','1:00 PM'),('9','4:30 PM'),('11','1:00 PM'),('12','1:00 PM'),\n",
    "                      ('12','2:30 PM'),('16','9:00 AM'),('18','9:00 AM'),\n",
    "                      ('19','9:00 AM'),('23','9:00 AM'),('25','9:00 AM')]"
   ]
  },
  {
   "cell_type": "code",
   "execution_count": 2,
   "metadata": {},
   "outputs": [],
   "source": [
    "dv = Checkout(url,id,password,'myreal','trip',card_info)\n",
    "dv.login()\n",
    "sleep(1)\n",
    "dv.next_month()\n",
    "for d,t in k:\n",
    "    try:\n",
    "        dv.test_get_ticket(d,t)\n",
    "    except:\n",
    "        pass\n",
    "dv.checkout()"
   ]
  },
  {
   "cell_type": "code",
   "execution_count": 5,
   "metadata": {},
   "outputs": [],
   "source": []
  },
  {
   "cell_type": "code",
   "execution_count": 6,
   "metadata": {},
   "outputs": [],
   "source": [
    "dv1.login()"
   ]
  },
  {
   "cell_type": "code",
   "execution_count": 3,
   "metadata": {},
   "outputs": [
    {
     "name": "stdout",
     "output_type": "stream",
     "text": [
      "wait\n"
     ]
    }
   ],
   "source": [
    "choose_instance=ticket_module.Choose(logged)\n",
    "sleep(1)\n",
    "print('wait')\n"
   ]
  },
  {
   "cell_type": "code",
   "execution_count": 4,
   "metadata": {},
   "outputs": [
    {
     "name": "stdout",
     "output_type": "stream",
     "text": [
      "31\n",
      "가능시간 개수 1\n",
      "[<selenium.webdriver.remote.webelement.WebElement (session=\"7c3fc1edfa18dd55d6a803df7e2dbd96\", element=\"976D0E9BEC4C9EF21A4A57545C8C3FA3_element_157\")>]\n",
      "31\n",
      "가능시간 개수 1\n",
      "[<selenium.webdriver.remote.webelement.WebElement (session=\"7c3fc1edfa18dd55d6a803df7e2dbd96\", element=\"976D0E9BEC4C9EF21A4A57545C8C3FA3_element_157\")>]\n",
      "31\n",
      "가능시간 개수 1\n",
      "[<selenium.webdriver.remote.webelement.WebElement (session=\"7c3fc1edfa18dd55d6a803df7e2dbd96\", element=\"976D0E9BEC4C9EF21A4A57545C8C3FA3_element_157\")>]\n",
      "31\n",
      "가능시간 개수 1\n",
      "[<selenium.webdriver.remote.webelement.WebElement (session=\"7c3fc1edfa18dd55d6a803df7e2dbd96\", element=\"976D0E9BEC4C9EF21A4A57545C8C3FA3_element_157\")>]\n"
     ]
    }
   ],
   "source": [
    "sleep(1)\n",
    "choose_instance.get_available_date()\n",
    "choose_instance.choose_date('20')\n",
    "sleep(1)\n",
    "choose_instance.get_available_time()\n",
    "choose_instance.choose_time(\"7:30 PM\")\n",
    "sleep(1)\n",
    "choose_instance.select_num()\n",
    "choose_instance.get_available_date()\n",
    "choose_instance.choose_date('20')\n",
    "sleep(1)\n",
    "choose_instance.get_available_time()\n",
    "choose_instance.choose_time(\"7:45 PM\")\n",
    "sleep(1)\n",
    "choose_instance.select_num()\n",
    "choose_instance.get_available_date()\n",
    "sleep(1)\n",
    "choose_instance.choose_date('21')\n",
    "sleep(1)\n",
    "choose_instance.get_available_time()\n",
    "choose_instance.choose_time(\"3:00 PM\")\n",
    "sleep(1)\n",
    "choose_instance.select_num()\n",
    "choose_instance.get_available_date()\n",
    "sleep(1)\n",
    "choose_instance.choose_date('21')\n",
    "sleep(1)\n",
    "choose_instance.get_available_time()\n",
    "choose_instance.choose_time(\"3:30 PM\")\n",
    "sleep(1)\n",
    "choose_instance.select_num()"
   ]
  },
  {
   "cell_type": "code",
   "execution_count": 5,
   "metadata": {},
   "outputs": [],
   "source": [
    "choosed=choose_instance.return_driver()\n",
    "checkphase=ticket_module.Checkout(choosed,'dongho','kwak',test_card_info)\n",
    "checkphase.finalize()\n",
    "checkphase.review_page()\n",
    "checkphase.guide_info_page()\n",
    "checkphase.pay()\n",
    "checkphase.insert_card_info()"
   ]
  }
 ],
 "metadata": {
  "kernelspec": {
   "display_name": "env",
   "language": "python",
   "name": "python3"
  },
  "language_info": {
   "codemirror_mode": {
    "name": "ipython",
    "version": 3
   },
   "file_extension": ".py",
   "mimetype": "text/x-python",
   "name": "python",
   "nbconvert_exporter": "python",
   "pygments_lexer": "ipython3",
   "version": "3.10.9"
  }
 },
 "nbformat": 4,
 "nbformat_minor": 2
}
